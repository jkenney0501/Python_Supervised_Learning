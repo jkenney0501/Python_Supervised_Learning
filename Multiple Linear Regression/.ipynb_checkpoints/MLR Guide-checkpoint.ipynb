{
 "cells": [
  {
   "cell_type": "markdown",
   "id": "ad324ffc",
   "metadata": {},
   "source": [
    "# This section is in progress currently: 4/19/22"
   ]
  },
  {
   "cell_type": "markdown",
   "id": "31d72330",
   "metadata": {},
   "source": [
    "## Example guide for multiple linear regression\n",
    "- The equation is essentially the same but we have more independent variables as the xample below shows.\n",
    "\n",
    "$$y = b0 + b_{1}x_{1} + b_{2}x_{2} + \\cdots + b_{n}x_{n}$$\n",
    "\n",
    "The example below states that \"marks\" depend on hours slept and hours studied.\n",
    "- This implies that \"Marks\" is the dependent variable and we have two independent variables in study hours and sleep hours. Let's examine the regression analysis to see more!"
   ]
  },
  {
   "cell_type": "markdown",
   "id": "3f8405d5",
   "metadata": {},
   "source": [
    "## Read in the data set"
   ]
  },
  {
   "cell_type": "code",
   "execution_count": 1,
   "id": "5c9c74a2",
   "metadata": {},
   "outputs": [],
   "source": [
    "import pandas as pd\n",
    "import matplotlib.pyplot as plt\n",
    "import seaborn as sns\n",
    "%matplotlib inline"
   ]
  },
  {
   "cell_type": "code",
   "execution_count": 2,
   "id": "571c61d9",
   "metadata": {},
   "outputs": [
    {
     "data": {
      "text/html": [
       "<div>\n",
       "<style scoped>\n",
       "    .dataframe tbody tr th:only-of-type {\n",
       "        vertical-align: middle;\n",
       "    }\n",
       "\n",
       "    .dataframe tbody tr th {\n",
       "        vertical-align: top;\n",
       "    }\n",
       "\n",
       "    .dataframe thead th {\n",
       "        text-align: right;\n",
       "    }\n",
       "</style>\n",
       "<table border=\"1\" class=\"dataframe\">\n",
       "  <thead>\n",
       "    <tr style=\"text-align: right;\">\n",
       "      <th></th>\n",
       "      <th>Hours</th>\n",
       "      <th>sHours</th>\n",
       "      <th>Marks</th>\n",
       "    </tr>\n",
       "  </thead>\n",
       "  <tbody>\n",
       "    <tr>\n",
       "      <th>0</th>\n",
       "      <td>0</td>\n",
       "      <td>6</td>\n",
       "      <td>34</td>\n",
       "    </tr>\n",
       "    <tr>\n",
       "      <th>1</th>\n",
       "      <td>1</td>\n",
       "      <td>7</td>\n",
       "      <td>36</td>\n",
       "    </tr>\n",
       "    <tr>\n",
       "      <th>2</th>\n",
       "      <td>1</td>\n",
       "      <td>6</td>\n",
       "      <td>33</td>\n",
       "    </tr>\n",
       "    <tr>\n",
       "      <th>3</th>\n",
       "      <td>1</td>\n",
       "      <td>8</td>\n",
       "      <td>39</td>\n",
       "    </tr>\n",
       "    <tr>\n",
       "      <th>4</th>\n",
       "      <td>1</td>\n",
       "      <td>8</td>\n",
       "      <td>42</td>\n",
       "    </tr>\n",
       "  </tbody>\n",
       "</table>\n",
       "</div>"
      ],
      "text/plain": [
       "   Hours  sHours  Marks\n",
       "0      0       6     34\n",
       "1      1       7     36\n",
       "2      1       6     33\n",
       "3      1       8     39\n",
       "4      1       8     42"
      ]
     },
     "execution_count": 2,
     "metadata": {},
     "output_type": "execute_result"
    }
   ],
   "source": [
    "dataset = pd.read_csv('02Students.csv')\n",
    "\n",
    "df= dataset.copy()\n",
    "\n",
    "df.head()"
   ]
  },
  {
   "cell_type": "markdown",
   "id": "b352d686",
   "metadata": {},
   "source": [
    "## Check the data types\n",
    "- We want to make sure we are using numeric varibales, if not we should convert them."
   ]
  },
  {
   "cell_type": "code",
   "execution_count": 3,
   "id": "cd976e98",
   "metadata": {},
   "outputs": [
    {
     "name": "stdout",
     "output_type": "stream",
     "text": [
      "<class 'pandas.core.frame.DataFrame'>\n",
      "RangeIndex: 30 entries, 0 to 29\n",
      "Data columns (total 3 columns):\n",
      " #   Column  Non-Null Count  Dtype\n",
      "---  ------  --------------  -----\n",
      " 0   Hours   30 non-null     int64\n",
      " 1   sHours  30 non-null     int64\n",
      " 2   Marks   30 non-null     int64\n",
      "dtypes: int64(3)\n",
      "memory usage: 848.0 bytes\n"
     ]
    }
   ],
   "source": [
    "# check data types to make sure they are ints to be used in regression.\n",
    "df.info()"
   ]
  },
  {
   "cell_type": "markdown",
   "id": "9d227a5a",
   "metadata": {},
   "source": [
    "## Visualize the correlations in a matrix"
   ]
  },
  {
   "cell_type": "code",
   "execution_count": 4,
   "id": "bf035ac9",
   "metadata": {},
   "outputs": [
    {
     "data": {
      "text/plain": [
       "<seaborn.axisgrid.PairGrid at 0x15bebc8faf0>"
      ]
     },
     "execution_count": 4,
     "metadata": {},
     "output_type": "execute_result"
    },
    {
     "data": {
      "image/png": "[encoded data removed]",
      "text/plain": [
       "<Figure size 540x540 with 12 Axes>"
      ]
     },
     "metadata": {
      "needs_background": "light"
     },
     "output_type": "display_data"
    }
   ],
   "source": [
    "sns.pairplot(df)"
   ]
  },
  {
   "cell_type": "markdown",
   "id": "46015f8b",
   "metadata": {},
   "source": [
    "## Check out the distribution for the target variable\n",
    "- This et is really small but these are typical EDA steps we ould usually take."
   ]
  },
  {
   "cell_type": "code",
   "execution_count": 5,
   "id": "f6866e3d",
   "metadata": {},
   "outputs": [
    {
     "data": {
      "text/plain": [
       "<seaborn.axisgrid.FacetGrid at 0x15bed187e80>"
      ]
     },
     "execution_count": 5,
     "metadata": {},
     "output_type": "execute_result"
    },
    {
     "data": {
      "image/png": "[encoded data removed]",
      "text/plain": [
       "<Figure size 360x360 with 1 Axes>"
      ]
     },
     "metadata": {
      "needs_background": "light"
     },
     "output_type": "display_data"
    }
   ],
   "source": [
    "sns.displot(df['Marks'])"
   ]
  },
  {
   "cell_type": "markdown",
   "id": "24457d2b",
   "metadata": {},
   "source": [
    "## Split the data vertically\n",
    "- The X column is choosing all the columns except the last one which will be our Y (dependent var), this why we split them, becasue we want to train the model to predxcit based on our independent variables."
   ]
  },
  {
   "cell_type": "code",
   "execution_count": 6,
   "id": "af9be458",
   "metadata": {},
   "outputs": [],
   "source": [
    "# up to the last col\n",
    "X = df.iloc[:, :-1]\n",
    "\n",
    "# only the last col\n",
    "Y = df.iloc[:, -1]"
   ]
  },
  {
   "cell_type": "markdown",
   "id": "4a0b06d9",
   "metadata": {},
   "source": [
    "## Split the dataset by rows into training and test datasets\n",
    "- We will use 30% for testing"
   ]
  },
  {
   "cell_type": "code",
   "execution_count": 7,
   "id": "904cb255",
   "metadata": {},
   "outputs": [],
   "source": [
    "from sklearn.model_selection import train_test_split"
   ]
  },
  {
   "cell_type": "code",
   "execution_count": 8,
   "id": "912a78e4",
   "metadata": {},
   "outputs": [],
   "source": [
    "# use shift+tab to see the model guide and copy/paste the below, reset test size and x/y to your var names.\n",
    "X_train, X_test, y_train, y_test = train_test_split(X, Y, test_size=0.3, random_state=1234)"
   ]
  },
  {
   "cell_type": "markdown",
   "id": "1dd7d3df",
   "metadata": {},
   "source": [
    "## Create and train the multiple linear reg model"
   ]
  },
  {
   "cell_type": "code",
   "execution_count": 9,
   "id": "f2c78c5c",
   "metadata": {},
   "outputs": [],
   "source": [
    "from sklearn.linear_model import LinearRegression"
   ]
  },
  {
   "cell_type": "markdown",
   "id": "f3649691",
   "metadata": {},
   "source": [
    "## Create the instance "
   ]
  },
  {
   "cell_type": "code",
   "execution_count": 10,
   "id": "82d41119",
   "metadata": {},
   "outputs": [],
   "source": [
    "std_reg = LinearRegression()"
   ]
  },
  {
   "cell_type": "markdown",
   "id": "a34ecd4c",
   "metadata": {},
   "source": [
    "## Train and fit the data to the model"
   ]
  },
  {
   "cell_type": "code",
   "execution_count": 11,
   "id": "93c55830",
   "metadata": {},
   "outputs": [
    {
     "data": {
      "text/plain": [
       "LinearRegression()"
      ]
     },
     "execution_count": 11,
     "metadata": {},
     "output_type": "execute_result"
    }
   ],
   "source": [
    "std_reg.fit(X_train, y_train)"
   ]
  },
  {
   "cell_type": "markdown",
   "id": "d05b8c27",
   "metadata": {},
   "source": [
    "## Predict the values of Y from the test data\n",
    "- We use the X test to predict these values."
   ]
  },
  {
   "cell_type": "code",
   "execution_count": 12,
   "id": "648dde87",
   "metadata": {},
   "outputs": [],
   "source": [
    "y_predict = std_reg.predict(X_test)"
   ]
  },
  {
   "cell_type": "markdown",
   "id": "aee8ff51",
   "metadata": {},
   "source": [
    "## Calulate the R-squared and the equation line"
   ]
  },
  {
   "cell_type": "code",
   "execution_count": 13,
   "id": "8571c6ca",
   "metadata": {},
   "outputs": [],
   "source": [
    "mlr_score = std_reg.score(X_test, y_test)\n",
    "\n",
    "# coefficients of the line\n",
    "mlr_coefficient = std_reg.coef_\n",
    "mlr_intercept = std_reg.intercept_"
   ]
  },
  {
   "cell_type": "code",
   "execution_count": 14,
   "id": "3751241c",
   "metadata": {},
   "outputs": [
    {
     "name": "stdout",
     "output_type": "stream",
     "text": [
      "R-squared: 0.9014449991870029\n",
      "Coefficients: [4.66551498 5.07484959]\n",
      "Intercept: 1.3152141538095066\n"
     ]
    }
   ],
   "source": [
    "print(f'R-squared: {mlr_score}')\n",
    "print(f'Coefficients: {mlr_coefficient}')\n",
    "print(f'Intercept: {mlr_intercept}')"
   ]
  },
  {
   "cell_type": "markdown",
   "id": "28d4861b",
   "metadata": {},
   "source": [
    "## Equation of the line:\n",
    "\n",
    "$$ y = 1.3315214 + 4.66551498(study hours) + 5.07484959(sleep hours) $$\n",
    "\n",
    "**What does this tell us?**\n",
    "- The line tells us that if a student does not sleep or study, their Mark will typically be close to 1.33.\n",
    "- On the other hand, the coefficients tell us that for every hour spent studying and sleeping, the students Mark will increase 4.66 and 5.07 repesctively. By plugging in the intial data set results, we can see this equation holds true quite well!\n",
    "\n",
    "**What do our metrics tell us?**\n",
    "- R squared is near 1 at .90, this tells us that nearly all the varuiation in Y can be explined by X or in other words, lower test scores are very well explined by less sleep and study time."
   ]
  },
  {
   "cell_type": "markdown",
   "id": "db09afd6",
   "metadata": {},
   "source": [
    "## Calulate the Root Mean Squared Error (RMSE)\n",
    "- From here we can see how much error the model has made.\n",
    "\n",
    "**Context matters!**\n",
    "- RSME can vary in size and therfore an RSME of say $10 when predciting housing prices is really great, it wouldnt be good at all if we are trying to predict the price of candy bars and this is why context matters!\n",
    "- However, our RMSE below shows that we have some eror than can be 5 or so points of the Mark which isnt bad at all! If the RMSE where in the teens or even 20's, that would indicate a problem. Theres alsways going to be some error but we always look to minimize our error in models."
   ]
  },
  {
   "cell_type": "code",
   "execution_count": 15,
   "id": "6aa0ab74",
   "metadata": {},
   "outputs": [],
   "source": [
    "from sklearn.metrics import mean_squared_error\n",
    "import math"
   ]
  },
  {
   "cell_type": "code",
   "execution_count": 16,
   "id": "0a0767bf",
   "metadata": {},
   "outputs": [],
   "source": [
    "mlr_rmse = math.sqrt(mean_squared_error(y_test, y_predict))"
   ]
  },
  {
   "cell_type": "code",
   "execution_count": 17,
   "id": "660debd8",
   "metadata": {},
   "outputs": [
    {
     "name": "stdout",
     "output_type": "stream",
     "text": [
      "RMSE: 5.755363941612018\n"
     ]
    }
   ],
   "source": [
    "print(f'RMSE: {mlr_rmse}')"
   ]
  },
  {
   "cell_type": "markdown",
   "id": "bf693a00",
   "metadata": {},
   "source": [
    "## Visualize the actual values as compared to the predicted values\n",
    "\n",
    "- Yet to be completed"
   ]
  },
  {
   "cell_type": "code",
   "execution_count": null,
   "id": "cd61caec",
   "metadata": {},
   "outputs": [],
   "source": []
  },
  {
   "cell_type": "code",
   "execution_count": null,
   "id": "a4615ddb",
   "metadata": {},
   "outputs": [],
   "source": []
  },
  {
   "cell_type": "code",
   "execution_count": null,
   "id": "193d8557",
   "metadata": {},
   "outputs": [],
   "source": []
  },
  {
   "cell_type": "code",
   "execution_count": null,
   "id": "c5f73725",
   "metadata": {},
   "outputs": [],
   "source": []
  },
  {
   "cell_type": "code",
   "execution_count": null,
   "id": "2f61f612",
   "metadata": {},
   "outputs": [],
   "source": []
  },
  {
   "cell_type": "code",
   "execution_count": null,
   "id": "6592dc09",
   "metadata": {},
   "outputs": [],
   "source": []
  },
  {
   "cell_type": "code",
   "execution_count": null,
   "id": "9f694ea7",
   "metadata": {},
   "outputs": [],
   "source": []
  },
  {
   "cell_type": "code",
   "execution_count": null,
   "id": "fa4e5363",
   "metadata": {},
   "outputs": [],
   "source": []
  },
  {
   "cell_type": "code",
   "execution_count": null,
   "id": "fa65a9fe",
   "metadata": {},
   "outputs": [],
   "source": []
  },
  {
   "cell_type": "code",
   "execution_count": null,
   "id": "273ccf5c",
   "metadata": {},
   "outputs": [],
   "source": []
  },
  {
   "cell_type": "code",
   "execution_count": null,
   "id": "5d055964",
   "metadata": {},
   "outputs": [],
   "source": []
  },
  {
   "cell_type": "code",
   "execution_count": null,
   "id": "989ce6e4",
   "metadata": {},
   "outputs": [],
   "source": []
  },
  {
   "cell_type": "code",
   "execution_count": null,
   "id": "b7238d20",
   "metadata": {},
   "outputs": [],
   "source": []
  }
 ],
 "metadata": {
  "kernelspec": {
   "display_name": "Python 3",
   "language": "python",
   "name": "python3"
  },
  "language_info": {
   "codemirror_mode": {
    "name": "ipython",
    "version": 3
   },
   "file_extension": ".py",
   "mimetype": "text/x-python",
   "name": "python",
   "nbconvert_exporter": "python",
   "pygments_lexer": "ipython3",
   "version": "3.8.8"
  }
 },
 "nbformat": 4,
 "nbformat_minor": 5
}
