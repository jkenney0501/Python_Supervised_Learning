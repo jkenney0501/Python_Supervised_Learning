{
 "cells": [
  {
   "cell_type": "code",
   "execution_count": 1,
   "id": "8cba208d",
   "metadata": {},
   "outputs": [],
   "source": [
    "import numpy as np\n",
    "import pandas as pd\n",
    "import matplotlib.pyplot as plt\n",
    "%matplotlib inline"
   ]
  },
  {
   "cell_type": "markdown",
   "id": "9f09ab33",
   "metadata": {},
   "source": [
    "### Data Exploration\n",
    "- Original Data Source: <a>https://archive.ics.uci.edu/ml/datasets/default+of+credit+card+clients#</a>\n",
    "- Pandas Ready (not cleaned but ready as you can see in step 1) <a>https://github.com/TrainingByPackt/Data-Science-Projects-with-Python/tree/master/Data</a>\n",
    "Set info: \n",
    "\n",
    "This research aimed at the case of customers default payments in Taiwan and compares the predictive accuracy of probability of default among six data mining methods. From the perspective of risk management, the result of predictive accuracy of the estimated probability of default will be more valuable than the binary result of classification - credible or not credible clients. Because the real probability of default is unknown, this study presented the novel a Sorting Smoothing Method to estimate the real probability of default. \n",
    "\n",
    "With the real probability of default as the response variable (Y), and the predictive probability of default as the independent variable (X), the simple linear regression result (Y = A + BX) shows that the forecasting model produced by artificial neural network has the highest coefficient of determination; its regression intercept (A) is close to zero, and regression coefficient (B) to one. Therefore, among the six data mining techniques, artificial neural network is the only one that can accurately estimate the real probability of default.\n",
    "\n",
    "#### Set Attribute Information:\n",
    "This research employed a binary variable, default payment (Yes = 1, No = 0), as the response variable. \n",
    "\n",
    "This study reviewed the literature and used the following 23 variables as explanatory variables:\n",
    "\n",
    "- Limit_Bal: Amount of the given credit (NT dollar): it includes both the individual consumer credit and his/her family (supplementary) credit.\n",
    "\n",
    "- Sex: Gender (1 = male; 2 = female)\n",
    "\n",
    "- Education: (1 = graduate school; 2 = university; 3 = high school; 4 = others)\n",
    "\n",
    "- Marriage: (1 = married; 2 = single; 3 = others)\n",
    "\n",
    "- Age: (year)\n",
    "\n",
    "\n",
    "**Note: X6-11 on orginal data set are labeled PAY_1 - PAY_6 here.**\n",
    "\n",
    "- PAY_1 - PAY_6: History of past payment. We tracked the past monthly payment records (from April to September, 2005) as follows: \n",
    "\n",
    "- PAY_1 = the repayment status in September, 2005; \n",
    "\n",
    "- PAY_2 = the repayment status in August, 2005; . . .;\n",
    "\n",
    "- PAY_6 = the repayment status in April, 2005. \n",
    "\n",
    "\n",
    "**The measurement scale for the repayment status is:**\n",
    "\n",
    "-   0 = at least a minimum payment was made but the entore balance was not, positive carry over inot next month.\n",
    "\n",
    "- -1 = pay duly (account had a balance that was paid in full); \n",
    "\n",
    "-   1 = payment delay for one month; \n",
    "\n",
    "- -2 = account started the month with  0 balance and never used any credit.\n",
    "\n",
    "-   2 = payment delay for two months; . . .;\n",
    "\n",
    "-   8 = payment delay for eight months; \n",
    "\n",
    "-   9 = payment delay for nine months and above.\n",
    "\n",
    "\n",
    "\n",
    "**Note: X12-17 on original data set are labeled BILL_AMT1-BILL_AMT6 here.**\n",
    "\n",
    "- BILL_AMT1-BILL_AMT6: Amount of bill statement (NT dollar). \n",
    "\n",
    "\n",
    "**Note: X18-23 om original data set are labeled PAY_AMT1-PAY_AMT6 here.**\n",
    "\n",
    "**PAY1-6 are a record of past payments. Past monthly payments recorded from April to September.**\n",
    "\n",
    "- PAY_AMT1-PAY_AMT6: Amount of previous payment (NT dollar). \n",
    "\n",
    "- PAY_AMT1 = amount paid in September, 2005; \n",
    "\n",
    "- PAY_AMT2 = amount paid in August, 2005; . . .;\n",
    "\n",
    "- PAY_AMT3 = amount paid in April, 2005."
   ]
  },
  {
   "cell_type": "markdown",
   "id": "03e16214",
   "metadata": {},
   "source": [
    "### The Business Problem:\n",
    "\n",
    "The client is a credit card company that has brought forth some data for demographics and financials over the past 6 months for a sample of 30k account holders. The data is at the credit account level; in other words, there is one row for each account. Rows are defined whether in the next month after the six month historical data period, the account owner has defaulted or in other words, failed to make the minimum payment. \n",
    "\n",
    "#### Objective:\n",
    "- Develop a predicitve model for whether an account will default next month given given the demographics and historical data. "
   ]
  },
  {
   "cell_type": "code",
   "execution_count": 3,
   "id": "d2a18631",
   "metadata": {},
   "outputs": [],
   "source": [
    "# Step 1 - Read in the data set\n",
    "df = pd.read_excel('../data/default_of_credit_card_clients__courseware_version_1_21_19.xlsx', engine='openpyxl')"
   ]
  },
  {
   "cell_type": "code",
   "execution_count": 4,
   "id": "211fa6a7",
   "metadata": {},
   "outputs": [
    {
     "data": {
      "text/html": [
       "<div>\n",
       "<style scoped>\n",
       "    .dataframe tbody tr th:only-of-type {\n",
       "        vertical-align: middle;\n",
       "    }\n",
       "\n",
       "    .dataframe tbody tr th {\n",
       "        vertical-align: top;\n",
       "    }\n",
       "\n",
       "    .dataframe thead th {\n",
       "        text-align: right;\n",
       "    }\n",
       "</style>\n",
       "<table border=\"1\" class=\"dataframe\">\n",
       "  <thead>\n",
       "    <tr style=\"text-align: right;\">\n",
       "      <th></th>\n",
       "      <th>ID</th>\n",
       "      <th>LIMIT_BAL</th>\n",
       "      <th>SEX</th>\n",
       "      <th>EDUCATION</th>\n",
       "      <th>MARRIAGE</th>\n",
       "      <th>AGE</th>\n",
       "      <th>PAY_1</th>\n",
       "      <th>PAY_2</th>\n",
       "      <th>PAY_3</th>\n",
       "      <th>PAY_4</th>\n",
       "      <th>...</th>\n",
       "      <th>BILL_AMT4</th>\n",
       "      <th>BILL_AMT5</th>\n",
       "      <th>BILL_AMT6</th>\n",
       "      <th>PAY_AMT1</th>\n",
       "      <th>PAY_AMT2</th>\n",
       "      <th>PAY_AMT3</th>\n",
       "      <th>PAY_AMT4</th>\n",
       "      <th>PAY_AMT5</th>\n",
       "      <th>PAY_AMT6</th>\n",
       "      <th>default payment next month</th>\n",
       "    </tr>\n",
       "  </thead>\n",
       "  <tbody>\n",
       "    <tr>\n",
       "      <th>0</th>\n",
       "      <td>798fc410-45c1</td>\n",
       "      <td>20000</td>\n",
       "      <td>2</td>\n",
       "      <td>2</td>\n",
       "      <td>1</td>\n",
       "      <td>24</td>\n",
       "      <td>2</td>\n",
       "      <td>2</td>\n",
       "      <td>-1</td>\n",
       "      <td>-1</td>\n",
       "      <td>...</td>\n",
       "      <td>0</td>\n",
       "      <td>0</td>\n",
       "      <td>0</td>\n",
       "      <td>0</td>\n",
       "      <td>689</td>\n",
       "      <td>0</td>\n",
       "      <td>0</td>\n",
       "      <td>0</td>\n",
       "      <td>0</td>\n",
       "      <td>1</td>\n",
       "    </tr>\n",
       "    <tr>\n",
       "      <th>1</th>\n",
       "      <td>8a8c8f3b-8eb4</td>\n",
       "      <td>120000</td>\n",
       "      <td>2</td>\n",
       "      <td>2</td>\n",
       "      <td>2</td>\n",
       "      <td>26</td>\n",
       "      <td>-1</td>\n",
       "      <td>2</td>\n",
       "      <td>0</td>\n",
       "      <td>0</td>\n",
       "      <td>...</td>\n",
       "      <td>3272</td>\n",
       "      <td>3455</td>\n",
       "      <td>3261</td>\n",
       "      <td>0</td>\n",
       "      <td>1000</td>\n",
       "      <td>1000</td>\n",
       "      <td>1000</td>\n",
       "      <td>0</td>\n",
       "      <td>2000</td>\n",
       "      <td>1</td>\n",
       "    </tr>\n",
       "    <tr>\n",
       "      <th>2</th>\n",
       "      <td>85698822-43f5</td>\n",
       "      <td>90000</td>\n",
       "      <td>2</td>\n",
       "      <td>2</td>\n",
       "      <td>2</td>\n",
       "      <td>34</td>\n",
       "      <td>0</td>\n",
       "      <td>0</td>\n",
       "      <td>0</td>\n",
       "      <td>0</td>\n",
       "      <td>...</td>\n",
       "      <td>14331</td>\n",
       "      <td>14948</td>\n",
       "      <td>15549</td>\n",
       "      <td>1518</td>\n",
       "      <td>1500</td>\n",
       "      <td>1000</td>\n",
       "      <td>1000</td>\n",
       "      <td>1000</td>\n",
       "      <td>5000</td>\n",
       "      <td>0</td>\n",
       "    </tr>\n",
       "    <tr>\n",
       "      <th>3</th>\n",
       "      <td>0737c11b-be42</td>\n",
       "      <td>50000</td>\n",
       "      <td>2</td>\n",
       "      <td>2</td>\n",
       "      <td>1</td>\n",
       "      <td>37</td>\n",
       "      <td>0</td>\n",
       "      <td>0</td>\n",
       "      <td>0</td>\n",
       "      <td>0</td>\n",
       "      <td>...</td>\n",
       "      <td>28314</td>\n",
       "      <td>28959</td>\n",
       "      <td>29547</td>\n",
       "      <td>2000</td>\n",
       "      <td>2019</td>\n",
       "      <td>1200</td>\n",
       "      <td>1100</td>\n",
       "      <td>1069</td>\n",
       "      <td>1000</td>\n",
       "      <td>0</td>\n",
       "    </tr>\n",
       "    <tr>\n",
       "      <th>4</th>\n",
       "      <td>3b7f77cc-dbc0</td>\n",
       "      <td>50000</td>\n",
       "      <td>1</td>\n",
       "      <td>2</td>\n",
       "      <td>1</td>\n",
       "      <td>57</td>\n",
       "      <td>-1</td>\n",
       "      <td>0</td>\n",
       "      <td>-1</td>\n",
       "      <td>0</td>\n",
       "      <td>...</td>\n",
       "      <td>20940</td>\n",
       "      <td>19146</td>\n",
       "      <td>19131</td>\n",
       "      <td>2000</td>\n",
       "      <td>36681</td>\n",
       "      <td>10000</td>\n",
       "      <td>9000</td>\n",
       "      <td>689</td>\n",
       "      <td>679</td>\n",
       "      <td>0</td>\n",
       "    </tr>\n",
       "  </tbody>\n",
       "</table>\n",
       "<p>5 rows × 25 columns</p>\n",
       "</div>"
      ],
      "text/plain": [
       "              ID  LIMIT_BAL  SEX  EDUCATION  MARRIAGE  AGE PAY_1  PAY_2  \\\n",
       "0  798fc410-45c1      20000    2          2         1   24     2      2   \n",
       "1  8a8c8f3b-8eb4     120000    2          2         2   26    -1      2   \n",
       "2  85698822-43f5      90000    2          2         2   34     0      0   \n",
       "3  0737c11b-be42      50000    2          2         1   37     0      0   \n",
       "4  3b7f77cc-dbc0      50000    1          2         1   57    -1      0   \n",
       "\n",
       "   PAY_3  PAY_4  ...  BILL_AMT4  BILL_AMT5  BILL_AMT6  PAY_AMT1  PAY_AMT2  \\\n",
       "0     -1     -1  ...          0          0          0         0       689   \n",
       "1      0      0  ...       3272       3455       3261         0      1000   \n",
       "2      0      0  ...      14331      14948      15549      1518      1500   \n",
       "3      0      0  ...      28314      28959      29547      2000      2019   \n",
       "4     -1      0  ...      20940      19146      19131      2000     36681   \n",
       "\n",
       "   PAY_AMT3  PAY_AMT4  PAY_AMT5  PAY_AMT6  default payment next month  \n",
       "0         0         0         0         0                           1  \n",
       "1      1000      1000         0      2000                           1  \n",
       "2      1000      1000      1000      5000                           0  \n",
       "3      1200      1100      1069      1000                           0  \n",
       "4     10000      9000       689       679                           0  \n",
       "\n",
       "[5 rows x 25 columns]"
      ]
     },
     "execution_count": 4,
     "metadata": {},
     "output_type": "execute_result"
    }
   ],
   "source": [
    "# view the data\n",
    "df.head()"
   ]
  },
  {
   "cell_type": "markdown",
   "id": "8f666bed",
   "metadata": {},
   "source": [
    "## Exploration and Cleaning\n",
    "- There is quite a bit of cleaning to do!"
   ]
  },
  {
   "cell_type": "code",
   "execution_count": 5,
   "id": "cb6d1162",
   "metadata": {},
   "outputs": [
    {
     "data": {
      "text/plain": [
       "29687"
      ]
     },
     "execution_count": 5,
     "metadata": {},
     "output_type": "execute_result"
    }
   ],
   "source": [
    "# get a unique count of ID's\n",
    "df['ID'].nunique()"
   ]
  },
  {
   "cell_type": "code",
   "execution_count": 6,
   "id": "2b2bc82a",
   "metadata": {},
   "outputs": [
    {
     "data": {
      "text/plain": [
       "(30000, 25)"
      ]
     },
     "execution_count": 6,
     "metadata": {},
     "output_type": "execute_result"
    }
   ],
   "source": [
    "# get an overall row count and shape\n",
    "df.shape"
   ]
  },
  {
   "cell_type": "code",
   "execution_count": 7,
   "id": "4b969b6d",
   "metadata": {},
   "outputs": [
    {
     "data": {
      "text/plain": [
       "bbffebbc-e3c4    2\n",
       "e07a0034-42af    2\n",
       "c5a658d0-92da    2\n",
       "db91a87c-3cbe    2\n",
       "9c53fb07-9b73    2\n",
       "Name: ID, dtype: int64"
      ]
     },
     "execution_count": 7,
     "metadata": {},
     "output_type": "execute_result"
    }
   ],
   "source": [
    "# Obviously, there are some dups that need to be explored when there are 30k rows and 29687 unique ID'S. \n",
    "# Use value_counts to explore.\n",
    "id_counts = df['ID'].value_counts()\n",
    "id_counts.head()"
   ]
  },
  {
   "cell_type": "code",
   "execution_count": 8,
   "id": "b8c1221c",
   "metadata": {},
   "outputs": [
    {
     "data": {
      "text/plain": [
       "1    29374\n",
       "2      313\n",
       "Name: ID, dtype: int64"
      ]
     },
     "execution_count": 8,
     "metadata": {},
     "output_type": "execute_result"
    }
   ],
   "source": [
    "# split it up to see how many rows have more than one count, simlar to a group by in SQL, group those > 1. We see 313 of them!\n",
    "id_counts.value_counts()"
   ]
  },
  {
   "cell_type": "markdown",
   "id": "fdae07f0",
   "metadata": {},
   "source": [
    "#### Create a boolean mask to help clean the dups."
   ]
  },
  {
   "cell_type": "code",
   "execution_count": 9,
   "id": "bf664d6c",
   "metadata": {},
   "outputs": [
    {
     "data": {
      "text/plain": [
       "bbffebbc-e3c4    True\n",
       "e07a0034-42af    True\n",
       "c5a658d0-92da    True\n",
       "db91a87c-3cbe    True\n",
       "9c53fb07-9b73    True\n",
       "Name: ID, dtype: bool"
      ]
     },
     "execution_count": 9,
     "metadata": {},
     "output_type": "execute_result"
    }
   ],
   "source": [
    "dupe_mask = id_counts == 2\n",
    "\n",
    "dupe_mask[0:5]"
   ]
  },
  {
   "cell_type": "markdown",
   "id": "c5c6c032",
   "metadata": {},
   "source": [
    "#### Select and store duplicated ID's in a new varibale called dupe_ids"
   ]
  },
  {
   "cell_type": "code",
   "execution_count": 10,
   "id": "b88db7d5",
   "metadata": {},
   "outputs": [
    {
     "data": {
      "text/plain": [
       "313"
      ]
     },
     "execution_count": 10,
     "metadata": {},
     "output_type": "execute_result"
    }
   ],
   "source": [
    "dupe_ids = id_counts.index[dupe_mask]\n",
    "\n",
    "# the set was 30k and we had 29687 unique values with the difference being 313.\n",
    "len(dupe_ids)"
   ]
  },
  {
   "cell_type": "code",
   "execution_count": 11,
   "id": "2ca95f33",
   "metadata": {},
   "outputs": [
    {
     "data": {
      "text/html": [
       "<div>\n",
       "<style scoped>\n",
       "    .dataframe tbody tr th:only-of-type {\n",
       "        vertical-align: middle;\n",
       "    }\n",
       "\n",
       "    .dataframe tbody tr th {\n",
       "        vertical-align: top;\n",
       "    }\n",
       "\n",
       "    .dataframe thead th {\n",
       "        text-align: right;\n",
       "    }\n",
       "</style>\n",
       "<table border=\"1\" class=\"dataframe\">\n",
       "  <thead>\n",
       "    <tr style=\"text-align: right;\">\n",
       "      <th></th>\n",
       "      <th>ID</th>\n",
       "      <th>LIMIT_BAL</th>\n",
       "      <th>SEX</th>\n",
       "      <th>EDUCATION</th>\n",
       "      <th>MARRIAGE</th>\n",
       "      <th>AGE</th>\n",
       "      <th>PAY_1</th>\n",
       "      <th>PAY_2</th>\n",
       "      <th>PAY_3</th>\n",
       "      <th>PAY_4</th>\n",
       "      <th>...</th>\n",
       "      <th>BILL_AMT4</th>\n",
       "      <th>BILL_AMT5</th>\n",
       "      <th>BILL_AMT6</th>\n",
       "      <th>PAY_AMT1</th>\n",
       "      <th>PAY_AMT2</th>\n",
       "      <th>PAY_AMT3</th>\n",
       "      <th>PAY_AMT4</th>\n",
       "      <th>PAY_AMT5</th>\n",
       "      <th>PAY_AMT6</th>\n",
       "      <th>default payment next month</th>\n",
       "    </tr>\n",
       "  </thead>\n",
       "  <tbody>\n",
       "    <tr>\n",
       "      <th>4304</th>\n",
       "      <td>c5a658d0-92da</td>\n",
       "      <td>40000</td>\n",
       "      <td>2</td>\n",
       "      <td>2</td>\n",
       "      <td>1</td>\n",
       "      <td>44</td>\n",
       "      <td>-1</td>\n",
       "      <td>-1</td>\n",
       "      <td>-1</td>\n",
       "      <td>-1</td>\n",
       "      <td>...</td>\n",
       "      <td>4665</td>\n",
       "      <td>4059</td>\n",
       "      <td>5588</td>\n",
       "      <td>4740</td>\n",
       "      <td>922</td>\n",
       "      <td>4665</td>\n",
       "      <td>4059</td>\n",
       "      <td>5588</td>\n",
       "      <td>7000</td>\n",
       "      <td>0</td>\n",
       "    </tr>\n",
       "    <tr>\n",
       "      <th>4404</th>\n",
       "      <td>c5a658d0-92da</td>\n",
       "      <td>0</td>\n",
       "      <td>0</td>\n",
       "      <td>0</td>\n",
       "      <td>0</td>\n",
       "      <td>0</td>\n",
       "      <td>0</td>\n",
       "      <td>0</td>\n",
       "      <td>0</td>\n",
       "      <td>0</td>\n",
       "      <td>...</td>\n",
       "      <td>0</td>\n",
       "      <td>0</td>\n",
       "      <td>0</td>\n",
       "      <td>0</td>\n",
       "      <td>0</td>\n",
       "      <td>0</td>\n",
       "      <td>0</td>\n",
       "      <td>0</td>\n",
       "      <td>0</td>\n",
       "      <td>0</td>\n",
       "    </tr>\n",
       "    <tr>\n",
       "      <th>7383</th>\n",
       "      <td>bbffebbc-e3c4</td>\n",
       "      <td>60000</td>\n",
       "      <td>1</td>\n",
       "      <td>2</td>\n",
       "      <td>1</td>\n",
       "      <td>54</td>\n",
       "      <td>2</td>\n",
       "      <td>2</td>\n",
       "      <td>0</td>\n",
       "      <td>0</td>\n",
       "      <td>...</td>\n",
       "      <td>37613</td>\n",
       "      <td>39038</td>\n",
       "      <td>37814</td>\n",
       "      <td>55</td>\n",
       "      <td>2400</td>\n",
       "      <td>1316</td>\n",
       "      <td>2000</td>\n",
       "      <td>1531</td>\n",
       "      <td>1477</td>\n",
       "      <td>0</td>\n",
       "    </tr>\n",
       "    <tr>\n",
       "      <th>7483</th>\n",
       "      <td>bbffebbc-e3c4</td>\n",
       "      <td>0</td>\n",
       "      <td>0</td>\n",
       "      <td>0</td>\n",
       "      <td>0</td>\n",
       "      <td>0</td>\n",
       "      <td>0</td>\n",
       "      <td>0</td>\n",
       "      <td>0</td>\n",
       "      <td>0</td>\n",
       "      <td>...</td>\n",
       "      <td>0</td>\n",
       "      <td>0</td>\n",
       "      <td>0</td>\n",
       "      <td>0</td>\n",
       "      <td>0</td>\n",
       "      <td>0</td>\n",
       "      <td>0</td>\n",
       "      <td>0</td>\n",
       "      <td>0</td>\n",
       "      <td>0</td>\n",
       "    </tr>\n",
       "    <tr>\n",
       "      <th>21119</th>\n",
       "      <td>e07a0034-42af</td>\n",
       "      <td>160000</td>\n",
       "      <td>1</td>\n",
       "      <td>1</td>\n",
       "      <td>1</td>\n",
       "      <td>40</td>\n",
       "      <td>0</td>\n",
       "      <td>0</td>\n",
       "      <td>2</td>\n",
       "      <td>2</td>\n",
       "      <td>...</td>\n",
       "      <td>-473</td>\n",
       "      <td>3757</td>\n",
       "      <td>3286</td>\n",
       "      <td>3000</td>\n",
       "      <td>0</td>\n",
       "      <td>0</td>\n",
       "      <td>4700</td>\n",
       "      <td>0</td>\n",
       "      <td>3000</td>\n",
       "      <td>1</td>\n",
       "    </tr>\n",
       "    <tr>\n",
       "      <th>21219</th>\n",
       "      <td>e07a0034-42af</td>\n",
       "      <td>0</td>\n",
       "      <td>0</td>\n",
       "      <td>0</td>\n",
       "      <td>0</td>\n",
       "      <td>0</td>\n",
       "      <td>0</td>\n",
       "      <td>0</td>\n",
       "      <td>0</td>\n",
       "      <td>0</td>\n",
       "      <td>...</td>\n",
       "      <td>0</td>\n",
       "      <td>0</td>\n",
       "      <td>0</td>\n",
       "      <td>0</td>\n",
       "      <td>0</td>\n",
       "      <td>0</td>\n",
       "      <td>0</td>\n",
       "      <td>0</td>\n",
       "      <td>0</td>\n",
       "      <td>0</td>\n",
       "    </tr>\n",
       "  </tbody>\n",
       "</table>\n",
       "<p>6 rows × 25 columns</p>\n",
       "</div>"
      ],
      "text/plain": [
       "                  ID  LIMIT_BAL  SEX  EDUCATION  MARRIAGE  AGE PAY_1  PAY_2  \\\n",
       "4304   c5a658d0-92da      40000    2          2         1   44    -1     -1   \n",
       "4404   c5a658d0-92da          0    0          0         0    0     0      0   \n",
       "7383   bbffebbc-e3c4      60000    1          2         1   54     2      2   \n",
       "7483   bbffebbc-e3c4          0    0          0         0    0     0      0   \n",
       "21119  e07a0034-42af     160000    1          1         1   40     0      0   \n",
       "21219  e07a0034-42af          0    0          0         0    0     0      0   \n",
       "\n",
       "       PAY_3  PAY_4  ...  BILL_AMT4  BILL_AMT5  BILL_AMT6  PAY_AMT1  PAY_AMT2  \\\n",
       "4304      -1     -1  ...       4665       4059       5588      4740       922   \n",
       "4404       0      0  ...          0          0          0         0         0   \n",
       "7383       0      0  ...      37613      39038      37814        55      2400   \n",
       "7483       0      0  ...          0          0          0         0         0   \n",
       "21119      2      2  ...       -473       3757       3286      3000         0   \n",
       "21219      0      0  ...          0          0          0         0         0   \n",
       "\n",
       "       PAY_AMT3  PAY_AMT4  PAY_AMT5  PAY_AMT6  default payment next month  \n",
       "4304       4665      4059      5588      7000                           0  \n",
       "4404          0         0         0         0                           0  \n",
       "7383       1316      2000      1531      1477                           0  \n",
       "7483          0         0         0         0                           0  \n",
       "21119         0      4700         0      3000                           1  \n",
       "21219         0         0         0         0                           0  \n",
       "\n",
       "[6 rows x 25 columns]"
      ]
     },
     "execution_count": 11,
     "metadata": {},
     "output_type": "execute_result"
    }
   ],
   "source": [
    "# lets view the dups in our data frame by using our new varibales to locate them (slicing only 3 for now to view)\n",
    "df.loc[df['ID'].isin(dupe_ids[0:3]), :]"
   ]
  },
  {
   "cell_type": "code",
   "execution_count": 12,
   "id": "f2af1258",
   "metadata": {},
   "outputs": [],
   "source": [
    "# the above data frame prodcues one row with valid data and one with all 0's but the same account number.\n",
    "# Create a boolean mask for 0's and get rid of those rows.\n",
    "df_zero_mask = df == 0"
   ]
  },
  {
   "cell_type": "code",
   "execution_count": 13,
   "id": "b5d416ad",
   "metadata": {},
   "outputs": [],
   "source": [
    "# create a feature zero mask to use the above var to find all cols with 0's \n",
    "feature_zero_mask = df_zero_mask.iloc[:,1:].all(axis=1)"
   ]
  },
  {
   "cell_type": "code",
   "execution_count": 14,
   "id": "9ed68316",
   "metadata": {},
   "outputs": [
    {
     "data": {
      "text/plain": [
       "315"
      ]
     },
     "execution_count": 14,
     "metadata": {},
     "output_type": "execute_result"
    }
   ],
   "source": [
    "# 315 row have zeros for every column but the first one. This is greater than the 313 so if we delete all zero rows,\n",
    "# we may get rid of the dup id problem.\n",
    "sum(feature_zero_mask)"
   ]
  },
  {
   "cell_type": "code",
   "execution_count": 15,
   "id": "05f584c9",
   "metadata": {},
   "outputs": [],
   "source": [
    "# clean the data frame by eliminating the rows with all zeros excpet for ID\n",
    "# note the use of the ~ as a logical NOT operator to select rows with no zeros and : to select all cols.\n",
    "# the goal is to see if the remaining rows are equal to the unique id's\n",
    "df_clean1 = df.loc[~feature_zero_mask, :].copy()"
   ]
  },
  {
   "cell_type": "code",
   "execution_count": 16,
   "id": "9c4f2012",
   "metadata": {},
   "outputs": [
    {
     "data": {
      "text/plain": [
       "(29685, 25)"
      ]
     },
     "execution_count": 16,
     "metadata": {},
     "output_type": "execute_result"
    }
   ],
   "source": [
    "# test the total of unique id's\n",
    "df_clean1.shape"
   ]
  },
  {
   "cell_type": "code",
   "execution_count": 17,
   "id": "d1580a1c",
   "metadata": {},
   "outputs": [
    {
     "data": {
      "text/plain": [
       "29685"
      ]
     },
     "execution_count": 17,
     "metadata": {},
     "output_type": "execute_result"
    }
   ],
   "source": [
    "# it is a match\n",
    "df_clean1['ID'].nunique()"
   ]
  },
  {
   "cell_type": "code",
   "execution_count": 18,
   "id": "07a193a7",
   "metadata": {},
   "outputs": [
    {
     "name": "stdout",
     "output_type": "stream",
     "text": [
      "<class 'pandas.core.frame.DataFrame'>\n",
      "Int64Index: 29685 entries, 0 to 29999\n",
      "Data columns (total 25 columns):\n",
      " #   Column                      Non-Null Count  Dtype \n",
      "---  ------                      --------------  ----- \n",
      " 0   ID                          29685 non-null  object\n",
      " 1   LIMIT_BAL                   29685 non-null  int64 \n",
      " 2   SEX                         29685 non-null  int64 \n",
      " 3   EDUCATION                   29685 non-null  int64 \n",
      " 4   MARRIAGE                    29685 non-null  int64 \n",
      " 5   AGE                         29685 non-null  int64 \n",
      " 6   PAY_1                       29685 non-null  object\n",
      " 7   PAY_2                       29685 non-null  int64 \n",
      " 8   PAY_3                       29685 non-null  int64 \n",
      " 9   PAY_4                       29685 non-null  int64 \n",
      " 10  PAY_5                       29685 non-null  int64 \n",
      " 11  PAY_6                       29685 non-null  int64 \n",
      " 12  BILL_AMT1                   29685 non-null  int64 \n",
      " 13  BILL_AMT2                   29685 non-null  int64 \n",
      " 14  BILL_AMT3                   29685 non-null  int64 \n",
      " 15  BILL_AMT4                   29685 non-null  int64 \n",
      " 16  BILL_AMT5                   29685 non-null  int64 \n",
      " 17  BILL_AMT6                   29685 non-null  int64 \n",
      " 18  PAY_AMT1                    29685 non-null  int64 \n",
      " 19  PAY_AMT2                    29685 non-null  int64 \n",
      " 20  PAY_AMT3                    29685 non-null  int64 \n",
      " 21  PAY_AMT4                    29685 non-null  int64 \n",
      " 22  PAY_AMT5                    29685 non-null  int64 \n",
      " 23  PAY_AMT6                    29685 non-null  int64 \n",
      " 24  default payment next month  29685 non-null  int64 \n",
      "dtypes: int64(23), object(2)\n",
      "memory usage: 5.9+ MB\n"
     ]
    }
   ],
   "source": [
    "# verify each row is not null\n",
    "df_clean1.info()"
   ]
  },
  {
   "cell_type": "markdown",
   "id": "9e3d70dc",
   "metadata": {},
   "source": [
    "## Examine the features and response variables \n",
    "- These may also need to be cleaned after some exploration.\n",
    "- Start with PAY_1 given we can see in the output above that it is an object but why? All others are int64."
   ]
  },
  {
   "cell_type": "code",
   "execution_count": 20,
   "id": "301e4375",
   "metadata": {},
   "outputs": [
    {
     "data": {
      "text/plain": [
       "0     2\n",
       "1    -1\n",
       "2     0\n",
       "3     0\n",
       "4    -1\n",
       "Name: PAY_1, dtype: object"
      ]
     },
     "execution_count": 20,
     "metadata": {},
     "output_type": "execute_result"
    }
   ],
   "source": [
    "# Quick view of PAY_1\n",
    "df_clean1['PAY_1'].head()"
   ]
  },
  {
   "cell_type": "markdown",
   "id": "8410f4d7",
   "metadata": {},
   "source": [
    "**Run a value_counts on the column**"
   ]
  },
  {
   "cell_type": "code",
   "execution_count": 21,
   "id": "dd0a0610",
   "metadata": {},
   "outputs": [
    {
     "data": {
      "text/plain": [
       "0                13087\n",
       "-1                5047\n",
       "1                 3261\n",
       "Not available     3021\n",
       "-2                2476\n",
       "2                 2378\n",
       "3                  292\n",
       "4                   63\n",
       "5                   23\n",
       "8                   17\n",
       "6                   11\n",
       "7                    9\n",
       "Name: PAY_1, dtype: int64"
      ]
     },
     "execution_count": 21,
     "metadata": {},
     "output_type": "execute_result"
    }
   ],
   "source": [
    "# this gives inisght - \"Not available\" is a string and pandas defaults the col to a string becasue of this.\n",
    "df_clean1['PAY_1'].value_counts()"
   ]
  },
  {
   "cell_type": "markdown",
   "id": "f6425c13",
   "metadata": {},
   "source": [
    "**For now, remove the \"Not available\" rows.**"
   ]
  },
  {
   "cell_type": "code",
   "execution_count": 22,
   "id": "d197539e",
   "metadata": {},
   "outputs": [],
   "source": [
    "valid_pay_1_mask = df_clean1['PAY_1'] != \"Not available\""
   ]
  },
  {
   "cell_type": "code",
   "execution_count": 23,
   "id": "efcea261",
   "metadata": {},
   "outputs": [
    {
     "data": {
      "text/plain": [
       "0    True\n",
       "1    True\n",
       "2    True\n",
       "3    True\n",
       "4    True\n",
       "Name: PAY_1, dtype: bool"
      ]
     },
     "execution_count": 23,
     "metadata": {},
     "output_type": "execute_result"
    }
   ],
   "source": [
    "valid_pay_1_mask[0:5]"
   ]
  },
  {
   "cell_type": "code",
   "execution_count": 24,
   "id": "eed1d33b",
   "metadata": {},
   "outputs": [
    {
     "data": {
      "text/plain": [
       "26664"
      ]
     },
     "execution_count": 24,
     "metadata": {},
     "output_type": "execute_result"
    }
   ],
   "source": [
    "# see how many rows we have now, we had 29685 and removed 3021 which = 26664.\n",
    "sum(valid_pay_1_mask)"
   ]
  },
  {
   "cell_type": "markdown",
   "id": "582937be",
   "metadata": {},
   "source": [
    "**Clean the data by removing with missing values of PAY_1**"
   ]
  },
  {
   "cell_type": "code",
   "execution_count": 25,
   "id": "14eac028",
   "metadata": {},
   "outputs": [],
   "source": [
    "df_clean2 = df_clean1.loc[valid_pay_1_mask,:].copy()"
   ]
  },
  {
   "cell_type": "code",
   "execution_count": 26,
   "id": "13efc5dc",
   "metadata": {},
   "outputs": [
    {
     "data": {
      "text/plain": [
       "(26664, 25)"
      ]
     },
     "execution_count": 26,
     "metadata": {},
     "output_type": "execute_result"
    }
   ],
   "source": [
    "# check the shape of the df - its good.\n",
    "df_clean2.shape"
   ]
  },
  {
   "cell_type": "markdown",
   "id": "4237180c",
   "metadata": {},
   "source": [
    "**Now the column needs to be converted to an int64**"
   ]
  },
  {
   "cell_type": "code",
   "execution_count": 27,
   "id": "468e77c6",
   "metadata": {},
   "outputs": [],
   "source": [
    "df_clean2['PAY_1'] = df_clean2['PAY_1'].astype('int64')"
   ]
  },
  {
   "cell_type": "code",
   "execution_count": 28,
   "id": "f68a125f",
   "metadata": {},
   "outputs": [
    {
     "name": "stdout",
     "output_type": "stream",
     "text": [
      "<class 'pandas.core.frame.DataFrame'>\n",
      "Int64Index: 26664 entries, 0 to 29999\n",
      "Data columns (total 2 columns):\n",
      " #   Column  Non-Null Count  Dtype\n",
      "---  ------  --------------  -----\n",
      " 0   PAY_1   26664 non-null  int64\n",
      " 1   PAY_2   26664 non-null  int64\n",
      "dtypes: int64(2)\n",
      "memory usage: 624.9 KB\n"
     ]
    }
   ],
   "source": [
    "# check pay and 2\n",
    "df_clean2[['PAY_1', 'PAY_2']].info()"
   ]
  },
  {
   "cell_type": "markdown",
   "id": "f3da334f",
   "metadata": {},
   "source": [
    "## Explore the demographic features\n",
    "- Note: we will be dropping Gender as it would be considered unethical to use for prediction."
   ]
  },
  {
   "cell_type": "code",
   "execution_count": 32,
   "id": "1985d488",
   "metadata": {},
   "outputs": [
    {
     "data": {
      "text/plain": [
       "array([[<AxesSubplot:title={'center':'LIMIT_BAL'}>,\n",
       "        <AxesSubplot:title={'center':'AGE'}>]], dtype=object)"
      ]
     },
     "execution_count": 32,
     "metadata": {},
     "output_type": "execute_result"
    },
    {
     "data": {
      "image/png": "[encoded data removed]",
      "text/plain": [
       "<Figure size 720x360 with 2 Axes>"
      ]
     },
     "metadata": {
      "needs_background": "light"
     },
     "output_type": "display_data"
    }
   ],
   "source": [
    "df_clean2[['LIMIT_BAL', 'AGE']].hist(figsize=(10,5))"
   ]
  },
  {
   "cell_type": "code",
   "execution_count": 33,
   "id": "bfa6a047",
   "metadata": {},
   "outputs": [
    {
     "data": {
      "text/html": [
       "<div>\n",
       "<style scoped>\n",
       "    .dataframe tbody tr th:only-of-type {\n",
       "        vertical-align: middle;\n",
       "    }\n",
       "\n",
       "    .dataframe tbody tr th {\n",
       "        vertical-align: top;\n",
       "    }\n",
       "\n",
       "    .dataframe thead th {\n",
       "        text-align: right;\n",
       "    }\n",
       "</style>\n",
       "<table border=\"1\" class=\"dataframe\">\n",
       "  <thead>\n",
       "    <tr style=\"text-align: right;\">\n",
       "      <th></th>\n",
       "      <th>LIMIT_BAL</th>\n",
       "      <th>AGE</th>\n",
       "    </tr>\n",
       "  </thead>\n",
       "  <tbody>\n",
       "    <tr>\n",
       "      <th>count</th>\n",
       "      <td>26664.000000</td>\n",
       "      <td>26664.000000</td>\n",
       "    </tr>\n",
       "    <tr>\n",
       "      <th>mean</th>\n",
       "      <td>167919.054905</td>\n",
       "      <td>35.505213</td>\n",
       "    </tr>\n",
       "    <tr>\n",
       "      <th>std</th>\n",
       "      <td>129839.453081</td>\n",
       "      <td>9.227442</td>\n",
       "    </tr>\n",
       "    <tr>\n",
       "      <th>min</th>\n",
       "      <td>10000.000000</td>\n",
       "      <td>21.000000</td>\n",
       "    </tr>\n",
       "    <tr>\n",
       "      <th>25%</th>\n",
       "      <td>50000.000000</td>\n",
       "      <td>28.000000</td>\n",
       "    </tr>\n",
       "    <tr>\n",
       "      <th>50%</th>\n",
       "      <td>140000.000000</td>\n",
       "      <td>34.000000</td>\n",
       "    </tr>\n",
       "    <tr>\n",
       "      <th>75%</th>\n",
       "      <td>240000.000000</td>\n",
       "      <td>41.000000</td>\n",
       "    </tr>\n",
       "    <tr>\n",
       "      <th>max</th>\n",
       "      <td>800000.000000</td>\n",
       "      <td>79.000000</td>\n",
       "    </tr>\n",
       "  </tbody>\n",
       "</table>\n",
       "</div>"
      ],
      "text/plain": [
       "           LIMIT_BAL           AGE\n",
       "count   26664.000000  26664.000000\n",
       "mean   167919.054905     35.505213\n",
       "std    129839.453081      9.227442\n",
       "min     10000.000000     21.000000\n",
       "25%     50000.000000     28.000000\n",
       "50%    140000.000000     34.000000\n",
       "75%    240000.000000     41.000000\n",
       "max    800000.000000     79.000000"
      ]
     },
     "execution_count": 33,
     "metadata": {},
     "output_type": "execute_result"
    }
   ],
   "source": [
    "# get sumary stats\n",
    "df_clean2[['LIMIT_BAL', 'AGE']].describe()"
   ]
  },
  {
   "cell_type": "markdown",
   "id": "f22829fd",
   "metadata": {},
   "source": [
    "**Explore some features**\n",
    "- LIMIT_BAL and AGE seem to be good and reasonably distributed given the plot and summary."
   ]
  },
  {
   "cell_type": "code",
   "execution_count": 34,
   "id": "76839497",
   "metadata": {},
   "outputs": [
    {
     "data": {
      "text/plain": [
       "2    12458\n",
       "1     9412\n",
       "3     4380\n",
       "5      245\n",
       "4      115\n",
       "6       43\n",
       "0       11\n",
       "Name: EDUCATION, dtype: int64"
      ]
     },
     "execution_count": 34,
     "metadata": {},
     "output_type": "execute_result"
    }
   ],
   "source": [
    "# explore education - Education: (1 = graduate school; 2 = university; 3 = high school; 4 = others)\n",
    "df_clean2['EDUCATION'].value_counts()"
   ]
  },
  {
   "cell_type": "markdown",
   "id": "25cda7b9",
   "metadata": {},
   "source": [
    "**There are a few catagories that dont seem to exist - 0, 5, 6**\n",
    "- We can group these into \"other\" aka 4."
   ]
  },
  {
   "cell_type": "code",
   "execution_count": 35,
   "id": "fbdf3780",
   "metadata": {},
   "outputs": [],
   "source": [
    "# group 0,5,6 inpt other\n",
    "df_clean2['EDUCATION'].replace(to_replace=[0,5,6], value=4, inplace=True)"
   ]
  },
  {
   "cell_type": "code",
   "execution_count": 36,
   "id": "fc716024",
   "metadata": {},
   "outputs": [
    {
     "data": {
      "text/plain": [
       "2    12458\n",
       "1     9412\n",
       "3     4380\n",
       "4      414\n",
       "Name: EDUCATION, dtype: int64"
      ]
     },
     "execution_count": 36,
     "metadata": {},
     "output_type": "execute_result"
    }
   ],
   "source": [
    "# all fixed\n",
    "df_clean2['EDUCATION'].value_counts()"
   ]
  },
  {
   "cell_type": "markdown",
   "id": "0639a4dd",
   "metadata": {},
   "source": [
    "**Get a count for Marriage.**"
   ]
  },
  {
   "cell_type": "code",
   "execution_count": 37,
   "id": "465478c4",
   "metadata": {},
   "outputs": [
    {
     "data": {
      "text/plain": [
       "2    14158\n",
       "1    12172\n",
       "3      286\n",
       "0       48\n",
       "Name: MARRIAGE, dtype: int64"
      ]
     },
     "execution_count": 37,
     "metadata": {},
     "output_type": "execute_result"
    }
   ],
   "source": [
    "# Marriage: (1 = married; 2 = single; 3 = others), we have 0 again....\n",
    "df_clean2['MARRIAGE'].value_counts()"
   ]
  },
  {
   "cell_type": "markdown",
   "id": "3e3e32ed",
   "metadata": {},
   "source": [
    "**Group the 0 into \"others\" = 3**"
   ]
  },
  {
   "cell_type": "code",
   "execution_count": 38,
   "id": "bccbd034",
   "metadata": {},
   "outputs": [],
   "source": [
    "df_clean2['MARRIAGE'].replace(to_replace=[0], value=3, inplace=True)"
   ]
  },
  {
   "cell_type": "code",
   "execution_count": 39,
   "id": "fde6a5ea",
   "metadata": {},
   "outputs": [
    {
     "data": {
      "text/plain": [
       "2    14158\n",
       "1    12172\n",
       "3      334\n",
       "Name: MARRIAGE, dtype: int64"
      ]
     },
     "execution_count": 39,
     "metadata": {},
     "output_type": "execute_result"
    }
   ],
   "source": [
    "# fixed\n",
    "df_clean2['MARRIAGE'].value_counts()"
   ]
  },
  {
   "cell_type": "markdown",
   "id": "6dd191c9",
   "metadata": {},
   "source": [
    "## Implement one hot encoding(OHE) for catagorical features.\n",
    "- Why are we doing this? More to come... for now, I'm just going to do it.\n",
    "\n",
    "# ADD INFO ON CAT OHE HERE!!!!!!"
   ]
  },
  {
   "cell_type": "markdown",
   "id": "ef8a6ad0",
   "metadata": {},
   "source": [
    "**Start with the edcuation catagory whihc has already been \"ordered\" for us but still needs OHE**"
   ]
  },
  {
   "cell_type": "code",
   "execution_count": 40,
   "id": "40804f66",
   "metadata": {},
   "outputs": [],
   "source": [
    "# Creat a dictionary first. We will map to it shortly.\n",
    "cat_map = {\n",
    "    1: \"graduate school\",\n",
    "    2: \"university\",\n",
    "    3: \"high school\",\n",
    "    4: \"others\"\n",
    "}"
   ]
  },
  {
   "cell_type": "markdown",
   "id": "3c2f1ad1",
   "metadata": {},
   "source": [
    "**Apply the mapping to a new EDUCATION_CAT column.**"
   ]
  },
  {
   "cell_type": "code",
   "execution_count": 41,
   "id": "2883aeb3",
   "metadata": {},
   "outputs": [],
   "source": [
    "df_clean2['EDUCATION_CAT'] = df_clean2['EDUCATION'].map(cat_map)"
   ]
  },
  {
   "cell_type": "code",
   "execution_count": 44,
   "id": "3fd05ce1",
   "metadata": {},
   "outputs": [
    {
     "data": {
      "text/html": [
       "<div>\n",
       "<style scoped>\n",
       "    .dataframe tbody tr th:only-of-type {\n",
       "        vertical-align: middle;\n",
       "    }\n",
       "\n",
       "    .dataframe tbody tr th {\n",
       "        vertical-align: top;\n",
       "    }\n",
       "\n",
       "    .dataframe thead th {\n",
       "        text-align: right;\n",
       "    }\n",
       "</style>\n",
       "<table border=\"1\" class=\"dataframe\">\n",
       "  <thead>\n",
       "    <tr style=\"text-align: right;\">\n",
       "      <th></th>\n",
       "      <th>EDUCATION</th>\n",
       "      <th>EDUCATION_CAT</th>\n",
       "    </tr>\n",
       "  </thead>\n",
       "  <tbody>\n",
       "    <tr>\n",
       "      <th>0</th>\n",
       "      <td>2</td>\n",
       "      <td>university</td>\n",
       "    </tr>\n",
       "    <tr>\n",
       "      <th>1</th>\n",
       "      <td>2</td>\n",
       "      <td>university</td>\n",
       "    </tr>\n",
       "    <tr>\n",
       "      <th>2</th>\n",
       "      <td>2</td>\n",
       "      <td>university</td>\n",
       "    </tr>\n",
       "    <tr>\n",
       "      <th>3</th>\n",
       "      <td>2</td>\n",
       "      <td>university</td>\n",
       "    </tr>\n",
       "    <tr>\n",
       "      <th>4</th>\n",
       "      <td>2</td>\n",
       "      <td>university</td>\n",
       "    </tr>\n",
       "    <tr>\n",
       "      <th>5</th>\n",
       "      <td>1</td>\n",
       "      <td>graduate school</td>\n",
       "    </tr>\n",
       "    <tr>\n",
       "      <th>6</th>\n",
       "      <td>1</td>\n",
       "      <td>graduate school</td>\n",
       "    </tr>\n",
       "    <tr>\n",
       "      <th>7</th>\n",
       "      <td>2</td>\n",
       "      <td>university</td>\n",
       "    </tr>\n",
       "    <tr>\n",
       "      <th>8</th>\n",
       "      <td>3</td>\n",
       "      <td>high school</td>\n",
       "    </tr>\n",
       "    <tr>\n",
       "      <th>9</th>\n",
       "      <td>3</td>\n",
       "      <td>high school</td>\n",
       "    </tr>\n",
       "  </tbody>\n",
       "</table>\n",
       "</div>"
      ],
      "text/plain": [
       "   EDUCATION    EDUCATION_CAT\n",
       "0          2       university\n",
       "1          2       university\n",
       "2          2       university\n",
       "3          2       university\n",
       "4          2       university\n",
       "5          1  graduate school\n",
       "6          1  graduate school\n",
       "7          2       university\n",
       "8          3      high school\n",
       "9          3      high school"
      ]
     },
     "execution_count": 44,
     "metadata": {},
     "output_type": "execute_result"
    }
   ],
   "source": [
    "# view results\n",
    "df_clean2[['EDUCATION', 'EDUCATION_CAT']].head(10)"
   ]
  },
  {
   "cell_type": "markdown",
   "id": "91b3e03f",
   "metadata": {},
   "source": [
    "**Now things are ready to OHE.**\n",
    "- Pass a series of the DF to the pandas get_dummies() function."
   ]
  },
  {
   "cell_type": "code",
   "execution_count": 45,
   "id": "cc3b1d1d",
   "metadata": {},
   "outputs": [
    {
     "data": {
      "text/html": [
       "<div>\n",
       "<style scoped>\n",
       "    .dataframe tbody tr th:only-of-type {\n",
       "        vertical-align: middle;\n",
       "    }\n",
       "\n",
       "    .dataframe tbody tr th {\n",
       "        vertical-align: top;\n",
       "    }\n",
       "\n",
       "    .dataframe thead th {\n",
       "        text-align: right;\n",
       "    }\n",
       "</style>\n",
       "<table border=\"1\" class=\"dataframe\">\n",
       "  <thead>\n",
       "    <tr style=\"text-align: right;\">\n",
       "      <th></th>\n",
       "      <th>graduate school</th>\n",
       "      <th>high school</th>\n",
       "      <th>others</th>\n",
       "      <th>university</th>\n",
       "    </tr>\n",
       "  </thead>\n",
       "  <tbody>\n",
       "    <tr>\n",
       "      <th>0</th>\n",
       "      <td>0</td>\n",
       "      <td>0</td>\n",
       "      <td>0</td>\n",
       "      <td>1</td>\n",
       "    </tr>\n",
       "    <tr>\n",
       "      <th>1</th>\n",
       "      <td>0</td>\n",
       "      <td>0</td>\n",
       "      <td>0</td>\n",
       "      <td>1</td>\n",
       "    </tr>\n",
       "    <tr>\n",
       "      <th>2</th>\n",
       "      <td>0</td>\n",
       "      <td>0</td>\n",
       "      <td>0</td>\n",
       "      <td>1</td>\n",
       "    </tr>\n",
       "    <tr>\n",
       "      <th>3</th>\n",
       "      <td>0</td>\n",
       "      <td>0</td>\n",
       "      <td>0</td>\n",
       "      <td>1</td>\n",
       "    </tr>\n",
       "    <tr>\n",
       "      <th>4</th>\n",
       "      <td>0</td>\n",
       "      <td>0</td>\n",
       "      <td>0</td>\n",
       "      <td>1</td>\n",
       "    </tr>\n",
       "  </tbody>\n",
       "</table>\n",
       "</div>"
      ],
      "text/plain": [
       "   graduate school  high school  others  university\n",
       "0                0            0       0           1\n",
       "1                0            0       0           1\n",
       "2                0            0       0           1\n",
       "3                0            0       0           1\n",
       "4                0            0       0           1"
      ]
     },
     "execution_count": 45,
     "metadata": {},
     "output_type": "execute_result"
    }
   ],
   "source": [
    "# the ordinal values of 1-4 are now gone and a binary classification is used to detect the edcuation!\n",
    "edu_ohe = pd.get_dummies(df_clean2['EDUCATION_CAT'])\n",
    "\n",
    "edu_ohe.head()"
   ]
  },
  {
   "cell_type": "markdown",
   "id": "969a7f6a",
   "metadata": {},
   "source": [
    "**Now we concatenate the OHE with the original data frame df_clean2.**"
   ]
  },
  {
   "cell_type": "code",
   "execution_count": 54,
   "id": "fa4d9682",
   "metadata": {},
   "outputs": [
    {
     "data": {
      "text/html": [
       "<div>\n",
       "<style scoped>\n",
       "    .dataframe tbody tr th:only-of-type {\n",
       "        vertical-align: middle;\n",
       "    }\n",
       "\n",
       "    .dataframe tbody tr th {\n",
       "        vertical-align: top;\n",
       "    }\n",
       "\n",
       "    .dataframe thead th {\n",
       "        text-align: right;\n",
       "    }\n",
       "</style>\n",
       "<table border=\"1\" class=\"dataframe\">\n",
       "  <thead>\n",
       "    <tr style=\"text-align: right;\">\n",
       "      <th></th>\n",
       "      <th>EDUCATION_CAT</th>\n",
       "      <th>graduate school</th>\n",
       "      <th>high school</th>\n",
       "      <th>others</th>\n",
       "      <th>university</th>\n",
       "    </tr>\n",
       "  </thead>\n",
       "  <tbody>\n",
       "    <tr>\n",
       "      <th>0</th>\n",
       "      <td>university</td>\n",
       "      <td>0</td>\n",
       "      <td>0</td>\n",
       "      <td>0</td>\n",
       "      <td>1</td>\n",
       "    </tr>\n",
       "    <tr>\n",
       "      <th>1</th>\n",
       "      <td>university</td>\n",
       "      <td>0</td>\n",
       "      <td>0</td>\n",
       "      <td>0</td>\n",
       "      <td>1</td>\n",
       "    </tr>\n",
       "    <tr>\n",
       "      <th>2</th>\n",
       "      <td>university</td>\n",
       "      <td>0</td>\n",
       "      <td>0</td>\n",
       "      <td>0</td>\n",
       "      <td>1</td>\n",
       "    </tr>\n",
       "    <tr>\n",
       "      <th>3</th>\n",
       "      <td>university</td>\n",
       "      <td>0</td>\n",
       "      <td>0</td>\n",
       "      <td>0</td>\n",
       "      <td>1</td>\n",
       "    </tr>\n",
       "    <tr>\n",
       "      <th>4</th>\n",
       "      <td>university</td>\n",
       "      <td>0</td>\n",
       "      <td>0</td>\n",
       "      <td>0</td>\n",
       "      <td>1</td>\n",
       "    </tr>\n",
       "  </tbody>\n",
       "</table>\n",
       "</div>"
      ],
      "text/plain": [
       "  EDUCATION_CAT  graduate school  high school  others  university\n",
       "0    university                0            0       0           1\n",
       "1    university                0            0       0           1\n",
       "2    university                0            0       0           1\n",
       "3    university                0            0       0           1\n",
       "4    university                0            0       0           1"
      ]
     },
     "execution_count": 54,
     "metadata": {},
     "output_type": "execute_result"
    }
   ],
   "source": [
    "df_with_ohe = pd.concat([df_clean2, edu_ohe], axis=1)\n",
    "\n",
    "df_with_ohe[['EDUCATION_CAT','graduate school', 'high school', 'others', 'university']].head()"
   ]
  },
  {
   "cell_type": "markdown",
   "id": "5cf09af8",
   "metadata": {},
   "source": [
    "## Save this as a new data file"
   ]
  },
  {
   "cell_type": "code",
   "execution_count": 55,
   "id": "bd3dae1c",
   "metadata": {},
   "outputs": [],
   "source": [
    "df_with_ohe.to_csv('../data/ohe_cleaned_data.csv', index=False)"
   ]
  },
  {
   "cell_type": "markdown",
   "id": "c8ebb3ec",
   "metadata": {},
   "source": [
    "## Explore the financial history features in the dataset"
   ]
  },
  {
   "cell_type": "code",
   "execution_count": null,
   "id": "1a100fbc",
   "metadata": {},
   "outputs": [],
   "source": [
    "# import the cleaned data set from above\n",
    "df= pd.read_csv('../data/ohe_cleaned_data.csv')"
   ]
  },
  {
   "cell_type": "code",
   "execution_count": null,
   "id": "b77e39ba",
   "metadata": {},
   "outputs": [],
   "source": []
  },
  {
   "cell_type": "code",
   "execution_count": null,
   "id": "e85685c1",
   "metadata": {},
   "outputs": [],
   "source": []
  },
  {
   "cell_type": "code",
   "execution_count": null,
   "id": "6d4d569c",
   "metadata": {},
   "outputs": [],
   "source": []
  },
  {
   "cell_type": "code",
   "execution_count": null,
   "id": "da85f2f6",
   "metadata": {},
   "outputs": [],
   "source": []
  },
  {
   "cell_type": "code",
   "execution_count": null,
   "id": "b6d0870c",
   "metadata": {},
   "outputs": [],
   "source": []
  },
  {
   "cell_type": "code",
   "execution_count": null,
   "id": "0bd67a20",
   "metadata": {},
   "outputs": [],
   "source": []
  },
  {
   "cell_type": "code",
   "execution_count": null,
   "id": "6e69a197",
   "metadata": {},
   "outputs": [],
   "source": []
  },
  {
   "cell_type": "code",
   "execution_count": null,
   "id": "18048498",
   "metadata": {},
   "outputs": [],
   "source": []
  },
  {
   "cell_type": "code",
   "execution_count": null,
   "id": "b7a7d76e",
   "metadata": {},
   "outputs": [],
   "source": []
  }
 ],
 "metadata": {
  "kernelspec": {
   "display_name": "Python 3",
   "language": "python",
   "name": "python3"
  },
  "language_info": {
   "codemirror_mode": {
    "name": "ipython",
    "version": 3
   },
   "file_extension": ".py",
   "mimetype": "text/x-python",
   "name": "python",
   "nbconvert_exporter": "python",
   "pygments_lexer": "ipython3",
   "version": "3.8.8"
  }
 },
 "nbformat": 4,
 "nbformat_minor": 5
}
