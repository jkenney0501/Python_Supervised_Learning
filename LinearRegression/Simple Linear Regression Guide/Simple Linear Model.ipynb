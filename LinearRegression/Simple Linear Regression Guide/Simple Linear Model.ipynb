{
 "cells": [
  {
   "cell_type": "markdown",
   "id": "08621620",
   "metadata": {},
   "source": [
    "# Linear Regression\n",
    "\n",
    "**What is LinReg?**\n",
    "- LinReg is a statistical process for estimating the relationships among variables.\n",
    "     - The predictor is continuous\n",
    "     - Relationships are between dependent and independent variables (or predictors).\n",
    "     - Can also be used as a way to infer causal relationships between the dependent and independent variables.\n",
    "     \n",
    "**When would we use it?**\n",
    "- To predict a continuous variable. Example: we want to predcit a stcoks price based on a given set of features or historic labels."
   ]
  },
  {
   "cell_type": "code",
   "execution_count": 26,
   "id": "ddd9270f",
   "metadata": {},
   "outputs": [],
   "source": [
    "# Comming Soon -  More edu info on OLE to be placed here."
   ]
  },
  {
   "cell_type": "code",
   "execution_count": 1,
   "id": "a5309c96",
   "metadata": {},
   "outputs": [],
   "source": [
    "import pandas as pd\n",
    "import matplotlib.pyplot as plt\n",
    "%matplotlib inline"
   ]
  },
  {
   "cell_type": "code",
   "execution_count": 2,
   "id": "fa0e1d05",
   "metadata": {},
   "outputs": [],
   "source": [
    "# import and make a copy to manipulate\n",
    "dataset = pd.read_csv('01Students.csv')\n",
    "\n",
    "df = dataset.copy()"
   ]
  },
  {
   "cell_type": "code",
   "execution_count": 4,
   "id": "709392a9",
   "metadata": {},
   "outputs": [
    {
     "data": {
      "text/html": [
       "<div>\n",
       "<style scoped>\n",
       "    .dataframe tbody tr th:only-of-type {\n",
       "        vertical-align: middle;\n",
       "    }\n",
       "\n",
       "    .dataframe tbody tr th {\n",
       "        vertical-align: top;\n",
       "    }\n",
       "\n",
       "    .dataframe thead th {\n",
       "        text-align: right;\n",
       "    }\n",
       "</style>\n",
       "<table border=\"1\" class=\"dataframe\">\n",
       "  <thead>\n",
       "    <tr style=\"text-align: right;\">\n",
       "      <th></th>\n",
       "      <th>Hours</th>\n",
       "      <th>Marks</th>\n",
       "    </tr>\n",
       "  </thead>\n",
       "  <tbody>\n",
       "    <tr>\n",
       "      <th>0</th>\n",
       "      <td>0</td>\n",
       "      <td>34</td>\n",
       "    </tr>\n",
       "    <tr>\n",
       "      <th>1</th>\n",
       "      <td>1</td>\n",
       "      <td>36</td>\n",
       "    </tr>\n",
       "    <tr>\n",
       "      <th>2</th>\n",
       "      <td>1</td>\n",
       "      <td>33</td>\n",
       "    </tr>\n",
       "  </tbody>\n",
       "</table>\n",
       "</div>"
      ],
      "text/plain": [
       "   Hours  Marks\n",
       "0      0     34\n",
       "1      1     36\n",
       "2      1     33"
      ]
     },
     "execution_count": 4,
     "metadata": {},
     "output_type": "execute_result"
    }
   ],
   "source": [
    "df.head(3)"
   ]
  },
  {
   "cell_type": "markdown",
   "id": "9cf97d89",
   "metadata": {},
   "source": [
    "**Split the data vertically into X and Y.**"
   ]
  },
  {
   "cell_type": "code",
   "execution_count": 5,
   "id": "305f3cfc",
   "metadata": {},
   "outputs": [],
   "source": [
    "X = df.iloc[:, :-1]\n",
    "\n",
    "Y = df.iloc[:, -1]"
   ]
  },
  {
   "cell_type": "markdown",
   "id": "1f185db8",
   "metadata": {},
   "source": [
    "**Split the dataset by rows into the training and test datasets.**"
   ]
  },
  {
   "cell_type": "code",
   "execution_count": 6,
   "id": "f0d25c28",
   "metadata": {},
   "outputs": [],
   "source": [
    "from sklearn.model_selection import train_test_split"
   ]
  },
  {
   "cell_type": "code",
   "execution_count": 7,
   "id": "8f7622f1",
   "metadata": {},
   "outputs": [],
   "source": [
    "# Note: we add the X and Y vars created above, inside the parentheses and make the test set at 30%.\n",
    "# We want to use 70% to train the model. The accuracy is tested with the test set.\n",
    "X_train, X_test, y_train, y_test = train_test_split(X, Y, test_size=0.30, random_state=1234)"
   ]
  },
  {
   "cell_type": "markdown",
   "id": "d5d31cad",
   "metadata": {},
   "source": [
    "**All data sets created in the above cell are available if we choose to see them.**"
   ]
  },
  {
   "cell_type": "code",
   "execution_count": 9,
   "id": "cbdfaab7",
   "metadata": {},
   "outputs": [
    {
     "data": {
      "text/plain": [
       "7     45\n",
       "10    56\n",
       "4     42\n",
       "1     36\n",
       "28    82\n",
       "Name: Marks, dtype: int64"
      ]
     },
     "execution_count": 9,
     "metadata": {},
     "output_type": "execute_result"
    }
   ],
   "source": [
    "# example\n",
    "#X_train.head()\n",
    "y_test.head()"
   ]
  },
  {
   "cell_type": "markdown",
   "id": "454b1a88",
   "metadata": {},
   "source": [
    "## Create and train the simple Linear Regression Model."
   ]
  },
  {
   "cell_type": "code",
   "execution_count": 10,
   "id": "16e5200e",
   "metadata": {},
   "outputs": [],
   "source": [
    "from sklearn.linear_model import LinearRegression"
   ]
  },
  {
   "cell_type": "markdown",
   "id": "4a2e2b4c",
   "metadata": {},
   "source": [
    "**Create the regressor.**\n",
    "- This is an instance of the LinearRegression clas imported above."
   ]
  },
  {
   "cell_type": "code",
   "execution_count": 11,
   "id": "934beca3",
   "metadata": {},
   "outputs": [],
   "source": [
    "std_reg = LinearRegression()"
   ]
  },
  {
   "cell_type": "markdown",
   "id": "d9d98668",
   "metadata": {},
   "source": [
    "**Train the above regressor on the data that was preprocessed above.**\n",
    "- We are going to train and fit the data."
   ]
  },
  {
   "cell_type": "code",
   "execution_count": 12,
   "id": "e1a884e4",
   "metadata": {},
   "outputs": [
    {
     "data": {
      "text/plain": [
       "LinearRegression()"
      ]
     },
     "execution_count": 12,
     "metadata": {},
     "output_type": "execute_result"
    }
   ],
   "source": [
    "std_reg.fit(X_train, y_train)"
   ]
  },
  {
   "cell_type": "markdown",
   "id": "1eb5d456",
   "metadata": {},
   "source": [
    "**Now that the data has been trained, lets predict the values of Y from the test data!**"
   ]
  },
  {
   "cell_type": "code",
   "execution_count": 13,
   "id": "8ae1ba5e",
   "metadata": {},
   "outputs": [],
   "source": [
    "y_predict = std_reg.predict(X_test)"
   ]
  },
  {
   "cell_type": "code",
   "execution_count": 14,
   "id": "13646968",
   "metadata": {},
   "outputs": [
    {
     "data": {
      "text/plain": [
       "array([49.35373808, 49.35373808, 39.29954842, 39.29954842, 84.54340191,\n",
       "       49.35373808, 39.29954842, 74.48921224, 59.40792775])"
      ]
     },
     "execution_count": 14,
     "metadata": {},
     "output_type": "execute_result"
    }
   ],
   "source": [
    "y_predict"
   ]
  },
  {
   "cell_type": "markdown",
   "id": "916639d7",
   "metadata": {},
   "source": [
    "## How do we know if our model is any good?\n",
    "\n",
    "**The coefficient of determination aka the R Squared!**\n",
    "- It tells us how much variation in Y is explained by variation in X.\n",
    "- R^2 is the SSR/SST and is a decimal between 0 and 1, the higher the value, the more confident in the explantion of any variance in Y being explained by X."
   ]
  },
  {
   "cell_type": "markdown",
   "id": "442318a0",
   "metadata": {},
   "source": [
    "**Calculate the r^2 and the equation of the line.**"
   ]
  },
  {
   "cell_type": "code",
   "execution_count": 15,
   "id": "3b0ebf3d",
   "metadata": {},
   "outputs": [],
   "source": [
    "slr_score = std_reg.score(X_test, y_test)"
   ]
  },
  {
   "cell_type": "code",
   "execution_count": 17,
   "id": "2f3db13a",
   "metadata": {},
   "outputs": [
    {
     "name": "stdout",
     "output_type": "stream",
     "text": [
      "The R^2 is: 0.8445283770796628\n"
     ]
    }
   ],
   "source": [
    "print(f'The R^2 is: {slr_score}')"
   ]
  },
  {
   "cell_type": "markdown",
   "id": "735873c6",
   "metadata": {},
   "source": [
    "**Given the R^2 is closer to 1, the model is predciting rather well!**"
   ]
  },
  {
   "cell_type": "markdown",
   "id": "f02d0360",
   "metadata": {},
   "source": [
    "Now get the coefficient."
   ]
  },
  {
   "cell_type": "code",
   "execution_count": 18,
   "id": "6376e159",
   "metadata": {},
   "outputs": [],
   "source": [
    "slr_coefficient = std_reg.coef_\n",
    "\n",
    "# get the intercept also\n",
    "slr_intercept = std_reg.intercept_"
   ]
  },
  {
   "cell_type": "code",
   "execution_count": 36,
   "id": "140af550",
   "metadata": {},
   "outputs": [
    {
     "name": "stdout",
     "output_type": "stream",
     "text": [
      "The R^2 is: 0.8445283770796628\n",
      "The coefficient is: [5.02709483]\n",
      "The intercept is: 34.272453587556456\n"
     ]
    }
   ],
   "source": [
    "print(f'The R^2 is: {slr_score}')\n",
    "print(f'The coefficient is: {slr_coefficient}')\n",
    "print(f'The intercept is: {slr_intercept}')"
   ]
  },
  {
   "cell_type": "markdown",
   "id": "3a59736b",
   "metadata": {},
   "source": [
    "**Calculate the RMSE - Root Mean Squared Error**\n",
    "- Provides the actual quantity of error in the predcition"
   ]
  },
  {
   "cell_type": "code",
   "execution_count": 22,
   "id": "a66dddb5",
   "metadata": {},
   "outputs": [],
   "source": [
    "from sklearn.metrics  import mean_absolute_error\n",
    "import math "
   ]
  },
  {
   "cell_type": "code",
   "execution_count": 24,
   "id": "2ca1d5f4",
   "metadata": {},
   "outputs": [],
   "source": [
    "slr_rmse = math.sqrt(mean_absolute_error(y_test, y_predict))"
   ]
  },
  {
   "cell_type": "code",
   "execution_count": 25,
   "id": "cdeb933a",
   "metadata": {},
   "outputs": [
    {
     "name": "stdout",
     "output_type": "stream",
     "text": [
      "RMSE is : 2.3709368109318465\n"
     ]
    }
   ],
   "source": [
    "print(F'RMSE is : {slr_rmse}')"
   ]
  },
  {
   "cell_type": "markdown",
   "id": "41dc4ac5",
   "metadata": {},
   "source": [
    "## Plot the Result"
   ]
  },
  {
   "cell_type": "code",
   "execution_count": 32,
   "id": "7051a2a8",
   "metadata": {},
   "outputs": [
    {
     "data": {
      "image/png": "[encoded data removed]",
      "text/plain": [
       "<Figure size 720x432 with 1 Axes>"
      ]
     },
     "metadata": {
      "needs_background": "light"
     },
     "output_type": "display_data"
    }
   ],
   "source": [
    "plt.figure(figsize=(10,6))\n",
    "\n",
    "# view a scatter\n",
    "plt.scatter(X_test, y_test)\n",
    "\n",
    "# Trendline\n",
    "plt.plot(X_test, y_predict)\n",
    "plt.ylim(ymin=0)\n",
    "\n",
    "# labels\n",
    "plt.title('Scores vs Study Hours')\n",
    "plt.xlabel('Study Hours')\n",
    "plt.ylabel('Score')\n",
    "plt.show()"
   ]
  },
  {
   "cell_type": "code",
   "execution_count": 37,
   "id": "f3fe9ea6",
   "metadata": {},
   "outputs": [
    {
     "name": "stdout",
     "output_type": "stream",
     "text": [
      "Equation of the regression line is: y = 34.272453587556456 + ([5.02709483] * x)\n",
      "Example of the regression equation in practice using 6 hours of study ot predci the score: 34.27 + (5.03 * 6) = 64.45\n"
     ]
    }
   ],
   "source": [
    "print(f'Equation of the regression line is: y = {slr_intercept} + ({slr_coefficient} * x)')\n",
    "\n",
    "print(f'Example of the regression equation in practice using 6 hours of study to predict the score: 34.27 + (5.03 * 6) = 64.45')"
   ]
  },
  {
   "cell_type": "markdown",
   "id": "4fc9063a",
   "metadata": {},
   "source": [
    "**The results are fairly accurate!**"
   ]
  },
  {
   "cell_type": "code",
   "execution_count": null,
   "id": "be7a27e7",
   "metadata": {},
   "outputs": [],
   "source": []
  },
  {
   "cell_type": "code",
   "execution_count": null,
   "id": "13d62d66",
   "metadata": {},
   "outputs": [],
   "source": []
  },
  {
   "cell_type": "code",
   "execution_count": null,
   "id": "3ffd0ac8",
   "metadata": {},
   "outputs": [],
   "source": []
  },
  {
   "cell_type": "code",
   "execution_count": null,
   "id": "c27b4034",
   "metadata": {},
   "outputs": [],
   "source": []
  },
  {
   "cell_type": "code",
   "execution_count": null,
   "id": "ea50cd9a",
   "metadata": {},
   "outputs": [],
   "source": []
  }
 ],
 "metadata": {
  "kernelspec": {
   "display_name": "Python 3",
   "language": "python",
   "name": "python3"
  },
  "language_info": {
   "codemirror_mode": {
    "name": "ipython",
    "version": 3
   },
   "file_extension": ".py",
   "mimetype": "text/x-python",
   "name": "python",
   "nbconvert_exporter": "python",
   "pygments_lexer": "ipython3",
   "version": "3.8.8"
  }
 },
 "nbformat": 4,
 "nbformat_minor": 5
}
